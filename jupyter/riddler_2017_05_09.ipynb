{
 "cells": [
  {
   "cell_type": "markdown",
   "metadata": {
    "deletable": true,
    "editable": true
   },
   "source": [
    "[Original Post on 538](https://fivethirtyeight.com/features/who-will-win-the-lucky-derby/)\n",
    "\n",
    "> ## Lucky Derby\n",
    "\n",
    "> The Kentucky Derby is on Saturday, and a field of 20 horses is slated to run “the fastest two minutes in sports” in pursuit of the right to be draped with a blanket of roses. But let’s consider, instead, the Lucky Derby, where things are a little more bizarre:\n",
    "\n",
    "> The bugle sounds, and 20 horses make their way to the starting gate for the first annual Lucky Derby. These horses, all trained at the mysterious Riddler Stables, are special. Each second, every Riddler-trained horse takes one step. Each step is exactly one meter long. But what these horses exhibit in precision, they lack in sense of direction. Most of the time, their steps are forward (toward the finish line) but the rest of the time they are backward (away from the finish line). As an avid fan of the Lucky Derby, you’ve done exhaustive research on these 20 competitors. You know that Horse One goes forward 52 percent of the time, Horse Two 54 percent of the time, Horse Three 56 percent, and so on, up to the favorite filly, Horse Twenty, who steps forward 90 percent of the time. The horses’ steps are taken independently of one another, and the finish line is 200 meters from the starting gate.\n",
    "\n",
    "> Handicap this race and place your bets! In other words, what are the odds (a percentage is fine) that each horse wins?\n",
    "\n",
    "### Solution\n",
    "We will be generating random numbers to simulate results of random chance, so import the necessary python module"
   ]
  },
  {
   "cell_type": "code",
   "execution_count": 1,
   "metadata": {
    "collapsed": true,
    "deletable": true,
    "editable": true
   },
   "outputs": [],
   "source": [
    "from __future__ import print_function, division\n",
    "import random"
   ]
  },
  {
   "cell_type": "markdown",
   "metadata": {
    "deletable": true,
    "editable": true
   },
   "source": [
    "First, we need to create objects to track each horse's attributes, and track position, and determine whether the horse has completed the race. This will make it a bit easier to do bookkeeping, although the object-oriented focus isn't strictly necessary."
   ]
  },
  {
   "cell_type": "code",
   "execution_count": 2,
   "metadata": {
    "collapsed": true,
    "deletable": true,
    "editable": true
   },
   "outputs": [],
   "source": [
    "class Horse(object):\n",
    "    def __init__(self, forward_chance, race_length):\n",
    "        # Save the forward chance % into the object so we can use it later\n",
    "        self.forward_chance = forward_chance\n",
    "        # Initialize the horse's distance at the beginning of the race\n",
    "        self.distance = 0\n",
    "        # Save the full distance of the race, so we can determine whether this horse has won\n",
    "        self.race_length = race_length\n",
    "        \n",
    "    def take_step(self):\n",
    "        # Generate random number and compare against random chance of moving forward\n",
    "        if random.random() <= self.forward_chance:\n",
    "            self.distance += 1\n",
    "        else:\n",
    "            self.distance -= 1\n",
    "            \n",
    "    def finished(self):\n",
    "        # Determine whether horse has moved equal or more than the total length of the race\n",
    "        if self.distance >= self.race_length:\n",
    "            return True\n",
    "        else:\n",
    "            return False"
   ]
  },
  {
   "cell_type": "markdown",
   "metadata": {
    "deletable": true,
    "editable": true
   },
   "source": [
    "With our `Horse` object created, we can now create all the horses, and run a race by simulating each second and waiting until at least one horse has completed the full length of the race."
   ]
  },
  {
   "cell_type": "code",
   "execution_count": 3,
   "metadata": {
    "collapsed": false,
    "deletable": true,
    "editable": true
   },
   "outputs": [
    {
     "name": "stdout",
     "output_type": "stream",
     "text": [
      "[0.9] 250\n"
     ]
    }
   ],
   "source": [
    "def run_race(length, n_horses=20):\n",
    "    timer = 0 # Just for fun, we can keep track of how long it takes this race to complete\n",
    "    horses = [Horse(0.52 + x * 0.02, length) for x in range(n_horses)]\n",
    "\n",
    "    # Run race until at least one horse has completed\n",
    "    while len([h for h in horses if h.finished()]) == 0:\n",
    "        # Move all the horses\n",
    "        for h in horses:\n",
    "            h.take_step()\n",
    "        # Increment the counter\n",
    "        timer += 1\n",
    "    \n",
    "    # Once race is complete, print the winning horse and race duration\n",
    "    winner = [h.forward_chance for h in horses if h.finished()]\n",
    "    return winner, timer\n",
    "\n",
    "winner, timer = run_race(200)\n",
    "print(winner, timer)"
   ]
  },
  {
   "cell_type": "markdown",
   "metadata": {
    "deletable": true,
    "editable": true
   },
   "source": [
    "Now that we can simulate one race, we need to just loop a number of times through the same simulation and keep track of who wins each time."
   ]
  },
  {
   "cell_type": "code",
   "execution_count": 25,
   "metadata": {
    "collapsed": false,
    "deletable": true,
    "editable": true,
    "scrolled": true
   },
   "outputs": [
    {
     "name": "stdout",
     "output_type": "stream",
     "text": [
      "0.52: 0.000%\n",
      "0.54: 0.000%\n",
      "0.56: 0.000%\n",
      "0.58: 0.000%\n",
      "0.60: 0.000%\n",
      "0.62: 0.000%\n",
      "0.64: 0.000%\n",
      "0.66: 0.000%\n",
      "0.68: 0.000%\n",
      "0.70: 0.000%\n",
      "0.72: 0.000%\n",
      "0.74: 0.000%\n",
      "0.76: 0.000%\n",
      "0.78: 0.002%\n",
      "0.80: 0.006%\n",
      "0.82: 0.116%\n",
      "0.84: 0.856%\n",
      "0.86: 5.005%\n",
      "0.88: 21.833%\n",
      "0.90: 72.183%\n"
     ]
    }
   ],
   "source": [
    "# Create a dictionary with each horse's forward percentage, and increment the counter when a horse wins\n",
    "results = {0.52 + x * 0.02: 0 for x in range(20)}\n",
    "timers = []\n",
    "for i in range(100000):\n",
    "    winners, timer = run_race(200)\n",
    "    timers.append(timer)\n",
    "    # There could be ties, so we split up a full win between all winners in this case\n",
    "    for w in winners:\n",
    "        results[w] += 1 / len(winners)\n",
    "        \n",
    "# Print out each horse, and the percentage of all races that they won\n",
    "for k in sorted(results):\n",
    "    print('%.2f: %.3f%%' % (k, results[k] / sum(results.values()) * 100))"
   ]
  },
  {
   "cell_type": "markdown",
   "metadata": {
    "deletable": true,
    "editable": true
   },
   "source": [
    "So there we have it. Horses with a forward chance < 78% have a less than 1:100,000 shot of winning the race (since we didn't observe a single victory in our 10,000 simulations), while the favored victor has a nearly 3:4 chance to win.\n",
    "\n",
    "### Extra Mile\n",
    "The nice thing about having this simulation, is that you can tweak the input variables slightly and see how that alters the outcome. What would the percentages have been if we only had the worst 10 horses involved instead of all 20?"
   ]
  },
  {
   "cell_type": "code",
   "execution_count": 4,
   "metadata": {
    "collapsed": false,
    "deletable": true,
    "editable": true
   },
   "outputs": [
    {
     "name": "stdout",
     "output_type": "stream",
     "text": [
      "0.52: 0.000%\n",
      "0.54: 0.000%\n",
      "0.56: 0.000%\n",
      "0.58: 0.000%\n",
      "0.60: 0.001%\n",
      "0.62: 0.041%\n",
      "0.64: 0.667%\n",
      "0.66: 4.833%\n",
      "0.68: 22.451%\n",
      "0.70: 72.006%\n"
     ]
    }
   ],
   "source": [
    "# Create a dictionary with each horse's forward percentage, and increment the counter when a horse wins\n",
    "results = {0.52 + x * 0.02: 0 for x in range(10)}\n",
    "timers = []\n",
    "for i in range(100000):\n",
    "    winners, timer = run_race(200, n_horses=10)\n",
    "    timers.append(timer)\n",
    "    # There could be ties, so we split up a full win between all winners in this case\n",
    "    for w in winners:\n",
    "        results[w] += 1 / len(winners)\n",
    "        \n",
    "# Print out each horse, and the percentage of all races that they won\n",
    "for k in sorted(results):\n",
    "    print('%.2f: %.3f%%' % (k, results[k] / sum(results.values()) * 100))"
   ]
  },
  {
   "cell_type": "markdown",
   "metadata": {},
   "source": [
    "The results here are nearly identical to those above, with the top horse winning roughly 72% of the time, the next winning 22% of the time, and the third horse winning 5% of the time, with others winning smaller amounts. It seems as though only the top 6 horses will win more than 1:100,000 times, regardless of the size of the field.\n",
    "\n",
    "<hr/>\n",
    "\n",
    "Now what happens if we change the length of the race to 50m instead of 200? Because the higher forward percentage should compound as the race gets longer, shortening the challenge might alter the winning percentages. Our simulation can check."
   ]
  },
  {
   "cell_type": "code",
   "execution_count": 5,
   "metadata": {
    "collapsed": false
   },
   "outputs": [
    {
     "name": "stdout",
     "output_type": "stream",
     "text": [
      "0.52: 0.000%\n",
      "0.54: 0.000%\n",
      "0.56: 0.000%\n",
      "0.58: 0.000%\n",
      "0.60: 0.000%\n",
      "0.62: 0.000%\n",
      "0.64: 0.000%\n",
      "0.66: 0.001%\n",
      "0.68: 0.001%\n",
      "0.70: 0.006%\n",
      "0.72: 0.024%\n",
      "0.74: 0.078%\n",
      "0.76: 0.231%\n",
      "0.78: 0.553%\n",
      "0.80: 1.392%\n",
      "0.82: 3.212%\n",
      "0.84: 6.668%\n",
      "0.86: 13.652%\n",
      "0.88: 25.802%\n",
      "0.90: 48.379%\n"
     ]
    }
   ],
   "source": [
    "# Create a dictionary with each horse's forward percentage, and increment the counter when a horse wins\n",
    "results = {0.52 + x * 0.02: 0 for x in range(20)}\n",
    "timers = []\n",
    "for i in range(100000):\n",
    "    winners, timer = run_race(50, n_horses=20)\n",
    "    timers.append(timer)\n",
    "    # There could be ties, so we split up a full win between all winners in this case\n",
    "    for w in winners:\n",
    "        results[w] += 1 / len(winners)\n",
    "        \n",
    "# Print out each horse, and the percentage of all races that they won\n",
    "for k in sorted(results):\n",
    "    print('%.2f: %.3f%%' % (k, results[k] / sum(results.values()) * 100))"
   ]
  },
  {
   "cell_type": "markdown",
   "metadata": {},
   "source": [
    "As expected, changing the length of the field lowers the skew, and allows more underdogs to have a fighting chance at winning.\n",
    "\n",
    "What are ways to improve the performance of this simulation? What are other scenarios we could alter the race to find something new? Using only this simulation, can you determine the true mathematical solution for each horse's winning percentage as a function of forward percentage, number of horses, and length of race?"
   ]
  }
 ],
 "metadata": {
  "kernelspec": {
   "display_name": "Python 2",
   "language": "python",
   "name": "python2"
  },
  "language_info": {
   "codemirror_mode": {
    "name": "ipython",
    "version": 2
   },
   "file_extension": ".py",
   "mimetype": "text/x-python",
   "name": "python",
   "nbconvert_exporter": "python",
   "pygments_lexer": "ipython2",
   "version": "2.7.13"
  }
 },
 "nbformat": 4,
 "nbformat_minor": 2
}
